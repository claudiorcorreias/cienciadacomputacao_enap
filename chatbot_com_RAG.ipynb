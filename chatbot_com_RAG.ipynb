{
  "cells": [
    {
      "cell_type": "markdown",
      "metadata": {
        "id": "view-in-github",
        "colab_type": "text"
      },
      "source": [
        "<a href=\"https://colab.research.google.com/github/claudiorcorreias/cienciadacomputacao_enap/blob/main/chatbot_com_RAG.ipynb\" target=\"_parent\"><img src=\"https://colab.research.google.com/assets/colab-badge.svg\" alt=\"Open In Colab\"/></a>"
      ]
    },
    {
      "cell_type": "markdown",
      "id": "98b6275a-b3bf-4067-9282-d454f77f1257",
      "metadata": {
        "id": "98b6275a-b3bf-4067-9282-d454f77f1257"
      },
      "source": [
        "## Chatbot RAG para Análise de Tarifas Aéreas - Proposta de Desenvolvimento"
      ]
    },
    {
      "cell_type": "code",
      "execution_count": 2,
      "id": "699f0fb4-b8c4-4e5f-9ed6-eec8e75bff3a",
      "metadata": {
        "colab": {
          "base_uri": "https://localhost:8080/",
          "height": 341
        },
        "id": "699f0fb4-b8c4-4e5f-9ed6-eec8e75bff3a",
        "outputId": "9647b02f-c48a-446c-ff2f-c13baf366138"
      },
      "outputs": [
        {
          "output_type": "error",
          "ename": "SecretNotFoundError",
          "evalue": "Secret secretName does not exist.",
          "traceback": [
            "\u001b[0;31m---------------------------------------------------------------------------\u001b[0m",
            "\u001b[0;31mSecretNotFoundError\u001b[0m                       Traceback (most recent call last)",
            "\u001b[0;32m<ipython-input-2-fa89e2157754>\u001b[0m in \u001b[0;36m<cell line: 0>\u001b[0;34m()\u001b[0m\n\u001b[1;32m     17\u001b[0m \u001b[0;32mfrom\u001b[0m \u001b[0msqlalchemy\u001b[0m \u001b[0;32mimport\u001b[0m \u001b[0mcreate_engine\u001b[0m\u001b[0;34m\u001b[0m\u001b[0;34m\u001b[0m\u001b[0m\n\u001b[1;32m     18\u001b[0m \u001b[0;32mfrom\u001b[0m \u001b[0mgoogle\u001b[0m\u001b[0;34m.\u001b[0m\u001b[0mcolab\u001b[0m \u001b[0;32mimport\u001b[0m \u001b[0muserdata\u001b[0m\u001b[0;34m\u001b[0m\u001b[0;34m\u001b[0m\u001b[0m\n\u001b[0;32m---> 19\u001b[0;31m \u001b[0muserdata\u001b[0m\u001b[0;34m.\u001b[0m\u001b[0mget\u001b[0m\u001b[0;34m(\u001b[0m\u001b[0;34m'secretName'\u001b[0m\u001b[0;34m)\u001b[0m\u001b[0;34m\u001b[0m\u001b[0;34m\u001b[0m\u001b[0m\n\u001b[0m\u001b[1;32m     20\u001b[0m \u001b[0;34m\u001b[0m\u001b[0m\n\u001b[1;32m     21\u001b[0m \u001b[0;31m# Configuração inicial\u001b[0m\u001b[0;34m\u001b[0m\u001b[0;34m\u001b[0m\u001b[0m\n",
            "\u001b[0;32m/usr/local/lib/python3.11/dist-packages/google/colab/userdata.py\u001b[0m in \u001b[0;36mget\u001b[0;34m(key)\u001b[0m\n\u001b[1;32m     66\u001b[0m     \u001b[0;32mraise\u001b[0m \u001b[0mTimeoutException\u001b[0m\u001b[0;34m(\u001b[0m\u001b[0mkey\u001b[0m\u001b[0;34m)\u001b[0m\u001b[0;34m\u001b[0m\u001b[0;34m\u001b[0m\u001b[0m\n\u001b[1;32m     67\u001b[0m   \u001b[0;32mif\u001b[0m \u001b[0;32mnot\u001b[0m \u001b[0mresp\u001b[0m\u001b[0;34m.\u001b[0m\u001b[0mget\u001b[0m\u001b[0;34m(\u001b[0m\u001b[0;34m'exists'\u001b[0m\u001b[0;34m,\u001b[0m \u001b[0;32mFalse\u001b[0m\u001b[0;34m)\u001b[0m\u001b[0;34m:\u001b[0m\u001b[0;34m\u001b[0m\u001b[0;34m\u001b[0m\u001b[0m\n\u001b[0;32m---> 68\u001b[0;31m     \u001b[0;32mraise\u001b[0m \u001b[0mSecretNotFoundError\u001b[0m\u001b[0;34m(\u001b[0m\u001b[0mkey\u001b[0m\u001b[0;34m)\u001b[0m\u001b[0;34m\u001b[0m\u001b[0;34m\u001b[0m\u001b[0m\n\u001b[0m\u001b[1;32m     69\u001b[0m   \u001b[0;32mif\u001b[0m \u001b[0;32mnot\u001b[0m \u001b[0mresp\u001b[0m\u001b[0;34m.\u001b[0m\u001b[0mget\u001b[0m\u001b[0;34m(\u001b[0m\u001b[0;34m'access'\u001b[0m\u001b[0;34m,\u001b[0m \u001b[0;32mFalse\u001b[0m\u001b[0;34m)\u001b[0m\u001b[0;34m:\u001b[0m\u001b[0;34m\u001b[0m\u001b[0;34m\u001b[0m\u001b[0m\n\u001b[1;32m     70\u001b[0m     \u001b[0;32mraise\u001b[0m \u001b[0mNotebookAccessError\u001b[0m\u001b[0;34m(\u001b[0m\u001b[0mkey\u001b[0m\u001b[0;34m)\u001b[0m\u001b[0;34m\u001b[0m\u001b[0;34m\u001b[0m\u001b[0m\n",
            "\u001b[0;31mSecretNotFoundError\u001b[0m: Secret secretName does not exist."
          ]
        }
      ],
      "source": [
        "import os\n",
        "import pandas as pd\n",
        "import streamlit as st\n",
        "from langchain_community.vectorstores import FAISS\n",
        "from langchain_community.embeddings import HuggingFaceEmbeddings\n",
        "from langchain.text_splitter import RecursiveCharacterTextSplitter\n",
        "from langchain_community.document_loaders import DirectoryLoader\n",
        "from langchain_openai import ChatOpenAI\n",
        "from langchain.agents import create_sql_agent, AgentType\n",
        "from langchain_community.agent_toolkits import SQLDatabaseToolkit\n",
        "from langchain.sql_database import SQLDatabase\n",
        "from langchain.agents import Tool\n",
        "from langchain.prompts import PromptTemplate\n",
        "from langchain_core.output_parsers import StrOutputParser\n",
        "from langchain_core.runnables import RunnablePassthrough\n",
        "from dotenv import load_dotenv\n",
        "from sqlalchemy import create_engine\n",
        "from google.colab import userdata\n",
        "userdata.get('secretName')\n",
        "\n",
        "# Configuração inicial\n",
        "load_dotenv()\n",
        "\n",
        "class TarifasChatbot:\n",
        "    def __init__(self):\n",
        "        self.setup_databases()\n",
        "        self.setup_llm()\n",
        "        self.setup_rag()\n",
        "        self.setup_agent()\n",
        "\n",
        "    def setup_databases(self):\n",
        "        \"\"\"Configura conexões com bancos de dados SQL e vetorial\"\"\"\n",
        "        # Banco de dados SQL\n",
        "        db_user = userdata.get(\"DB_USER\")\n",
        "        db_password = userdata.get(\"DB_PASSWORD\")\n",
        "        db_host = userdata.get(\"DB_HOST\")\n",
        "        db_name = userdata.get(\"DB_NAME\")\n",
        "        db_port = userdata.get(\"DB_PORT\", \"5432\")\n",
        "\n",
        "        self.sql_url = f\"postgresql://{db_user}:{db_password}@{db_host}:{db_port}/{db_name}\"\n",
        "        self.db = SQLDatabase.from_uri(self.sql_url, schema=\"tarifas\")\n",
        "\n",
        "        # Banco de dados vetorial para RAG\n",
        "        self.embeddings = HuggingFaceEmbeddings(model_name=\"sentence-transformers/all-mpnet-base-v2\")\n",
        "        self.vector_store_path = \"vector_store\"\n",
        "\n",
        "        if not os.path.exists(self.vector_store_path):\n",
        "            self.create_vector_store()\n",
        "\n",
        "        self.vector_store = FAISS.load_local(self.vector_store_path, self.embeddings)\n",
        "\n",
        "    def create_vector_store(self):\n",
        "        \"\"\"Cria o banco de dados vetorial a partir de documentos\"\"\"\n",
        "        loader = DirectoryLoader(\"docs/\", glob=\"**/*.pdf\")\n",
        "        documents = loader.load()\n",
        "\n",
        "        text_splitter = RecursiveCharacterTextSplitter(\n",
        "            chunk_size=1000,\n",
        "            chunk_overlap=200\n",
        "        )\n",
        "        splits = text_splitter.split_documents(documents)\n",
        "\n",
        "        vector_store = FAISS.from_documents(splits, self.embeddings)\n",
        "        vector_store.save_local(self.vector_store_path)\n",
        "\n",
        "    def setup_llm(self):\n",
        "        \"\"\"Configura o modelo de linguagem\"\"\"\n",
        "        self.llm = ChatOpenAI(\n",
        "            model_name=\"o3-mini\",\n",
        "            temperature=0.3,\n",
        "            streaming=True\n",
        "        )\n",
        "\n",
        "    def setup_rag(self):\n",
        "        \"\"\"Configura o sistema RAG\"\"\"\n",
        "        self.retriever = self.vector_store.as_retriever(search_kwargs={\"k\": 3})\n",
        "\n",
        "        rag_prompt = PromptTemplate.from_template(\"\"\"\n",
        "        Você é um especialista em tarifas aéreas. Use o contexto abaixo para responder à pergunta.\n",
        "        Mantenha as respostas técnicas mas acessíveis.\n",
        "\n",
        "        Contexto: {context}\n",
        "\n",
        "        Pergunta: {question}\n",
        "\n",
        "        Resposta:\n",
        "        \"\"\")\n",
        "\n",
        "        self.rag_chain = (\n",
        "            {\"context\": self.retriever, \"question\": RunnablePassthrough()}\n",
        "            | rag_prompt\n",
        "            | self.llm\n",
        "            | StrOutputParser()\n",
        "        )\n",
        "\n",
        "    def setup_agent(self):\n",
        "        \"\"\"Configura o agente SQL\"\"\"\n",
        "        toolkit = SQLDatabaseToolkit(db=self.db, llm=self.llm)\n",
        "\n",
        "        sql_tool = Tool(\n",
        "            name=\"SQLDatabase\",\n",
        "            func=toolkit.get_tools()[0].func,\n",
        "            description=\"Useful for answering questions about airline tariffs and metrics\"\n",
        "        )\n",
        "\n",
        "        rag_tool = Tool(\n",
        "            name=\"RAGSystem\",\n",
        "            func=self.rag_chain.invoke,\n",
        "            description=\"Useful for answering general questions about airline regulations and policies\"\n",
        "        )\n",
        "\n",
        "        self.agent = create_sql_agent(\n",
        "            llm=self.llm,\n",
        "            toolkit=toolkit,\n",
        "            extra_tools=[rag_tool],\n",
        "            agent_type=AgentType.OPENAI_FUNCTIONS,\n",
        "            verbose=True\n",
        "        )\n",
        "\n",
        "    def query(self, question):\n",
        "        \"\"\"Processa uma pergunta do usuário\"\"\"\n",
        "        try:\n",
        "            # Primeiro tenta o RAG para perguntas conceituais\n",
        "            if any(word in question.lower() for word in [\"o que é\", \"como funciona\", \"defina\", \"regulamento\"]):\n",
        "                return self.rag_chain.invoke(question)\n",
        "\n",
        "            # Para perguntas numéricas/analíticas, usa o agente SQL\n",
        "            return self.agent.run(question)\n",
        "\n",
        "        except Exception as e:\n",
        "            return f\"Erro ao processar pergunta: {str(e)}\"\n",
        "\n",
        "# Interface Streamlit\n",
        "def main():\n",
        "    st.title(\"Chatbot Especialista em Tarifas Aéreas\")\n",
        "    st.write(\"\"\"\n",
        "    Sistema de análise integrada de tarifas aéreas com RAG.\n",
        "    Faça perguntas sobre dados tarifários ou regulamentação.\n",
        "    \"\"\")\n",
        "\n",
        "    chatbot = TarifasChatbot()\n",
        "\n",
        "    question = st.text_input(\"Faça sua pergunta:\")\n",
        "    if st.button(\"Enviar\") and question:\n",
        "        with st.spinner(\"Processando...\"):\n",
        "            response = chatbot.query(question)\n",
        "\n",
        "        st.write(\"**Resposta:**\")\n",
        "        st.write(response)\n",
        "\n",
        "        # Histórico de conversa\n",
        "        if \"history\" not in st.session_state:\n",
        "            st.session_state.history = []\n",
        "\n",
        "        st.session_state.history.append({\"question\": question, \"response\": response})\n",
        "\n",
        "        st.write(\"**Histórico:**\")\n",
        "        for item in st.session_state.history[-3:]:\n",
        "            st.text(f\"Q: {item['question']}\")\n",
        "            st.text(f\"A: {item['response']}\\n---\")\n",
        "\n",
        "if __name__ == \"__main__\":\n",
        "    main()"
      ]
    },
    {
      "cell_type": "code",
      "source": [
        "from google.colab import userdata\n",
        "userdata.get('secretName')"
      ],
      "metadata": {
        "id": "Y2qsU1rGm04D",
        "outputId": "a4dd284c-1a15-438f-c225-1fe81e1635ea",
        "colab": {
          "base_uri": "https://localhost:8080/",
          "height": 287
        }
      },
      "id": "Y2qsU1rGm04D",
      "execution_count": 3,
      "outputs": [
        {
          "output_type": "error",
          "ename": "SecretNotFoundError",
          "evalue": "Secret secretName does not exist.",
          "traceback": [
            "\u001b[0;31m---------------------------------------------------------------------------\u001b[0m",
            "\u001b[0;31mSecretNotFoundError\u001b[0m                       Traceback (most recent call last)",
            "\u001b[0;32m<ipython-input-3-245876ae012f>\u001b[0m in \u001b[0;36m<cell line: 0>\u001b[0;34m()\u001b[0m\n\u001b[1;32m      1\u001b[0m \u001b[0;32mfrom\u001b[0m \u001b[0mgoogle\u001b[0m\u001b[0;34m.\u001b[0m\u001b[0mcolab\u001b[0m \u001b[0;32mimport\u001b[0m \u001b[0muserdata\u001b[0m\u001b[0;34m\u001b[0m\u001b[0;34m\u001b[0m\u001b[0m\n\u001b[0;32m----> 2\u001b[0;31m \u001b[0muserdata\u001b[0m\u001b[0;34m.\u001b[0m\u001b[0mget\u001b[0m\u001b[0;34m(\u001b[0m\u001b[0;34m'secretName'\u001b[0m\u001b[0;34m)\u001b[0m\u001b[0;34m\u001b[0m\u001b[0;34m\u001b[0m\u001b[0m\n\u001b[0m",
            "\u001b[0;32m/usr/local/lib/python3.11/dist-packages/google/colab/userdata.py\u001b[0m in \u001b[0;36mget\u001b[0;34m(key)\u001b[0m\n\u001b[1;32m     66\u001b[0m     \u001b[0;32mraise\u001b[0m \u001b[0mTimeoutException\u001b[0m\u001b[0;34m(\u001b[0m\u001b[0mkey\u001b[0m\u001b[0;34m)\u001b[0m\u001b[0;34m\u001b[0m\u001b[0;34m\u001b[0m\u001b[0m\n\u001b[1;32m     67\u001b[0m   \u001b[0;32mif\u001b[0m \u001b[0;32mnot\u001b[0m \u001b[0mresp\u001b[0m\u001b[0;34m.\u001b[0m\u001b[0mget\u001b[0m\u001b[0;34m(\u001b[0m\u001b[0;34m'exists'\u001b[0m\u001b[0;34m,\u001b[0m \u001b[0;32mFalse\u001b[0m\u001b[0;34m)\u001b[0m\u001b[0;34m:\u001b[0m\u001b[0;34m\u001b[0m\u001b[0;34m\u001b[0m\u001b[0m\n\u001b[0;32m---> 68\u001b[0;31m     \u001b[0;32mraise\u001b[0m \u001b[0mSecretNotFoundError\u001b[0m\u001b[0;34m(\u001b[0m\u001b[0mkey\u001b[0m\u001b[0;34m)\u001b[0m\u001b[0;34m\u001b[0m\u001b[0;34m\u001b[0m\u001b[0m\n\u001b[0m\u001b[1;32m     69\u001b[0m   \u001b[0;32mif\u001b[0m \u001b[0;32mnot\u001b[0m \u001b[0mresp\u001b[0m\u001b[0;34m.\u001b[0m\u001b[0mget\u001b[0m\u001b[0;34m(\u001b[0m\u001b[0;34m'access'\u001b[0m\u001b[0;34m,\u001b[0m \u001b[0;32mFalse\u001b[0m\u001b[0;34m)\u001b[0m\u001b[0;34m:\u001b[0m\u001b[0;34m\u001b[0m\u001b[0;34m\u001b[0m\u001b[0m\n\u001b[1;32m     70\u001b[0m     \u001b[0;32mraise\u001b[0m \u001b[0mNotebookAccessError\u001b[0m\u001b[0;34m(\u001b[0m\u001b[0mkey\u001b[0m\u001b[0;34m)\u001b[0m\u001b[0;34m\u001b[0m\u001b[0;34m\u001b[0m\u001b[0m\n",
            "\u001b[0;31mSecretNotFoundError\u001b[0m: Secret secretName does not exist."
          ]
        }
      ]
    },
    {
      "cell_type": "code",
      "execution_count": null,
      "id": "bce168d6-9a21-48b3-849d-78798e02641e",
      "metadata": {
        "id": "bce168d6-9a21-48b3-849d-78798e02641e"
      },
      "outputs": [],
      "source": [
        "/projeto_chatbot\n",
        "│\n",
        "├── /docs/                  # Documentos para o RAG\n",
        "│   ├── regulamentos.pdf\n",
        "│   ├── metodologias.pdf\n",
        "│   └── manuais.pdf\n",
        "│\n",
        "├── app.py                  # Código principal\n",
        "├── requirements.txt        # Dependências\n",
        "├── .env                    # Variáveis de ambiente\n",
        "└── /vector_store/          # Banco vetorial (gerado automaticamente)"
      ]
    }
  ],
  "metadata": {
    "kernelspec": {
      "display_name": "Python 3 (ipykernel)",
      "language": "python",
      "name": "python3"
    },
    "language_info": {
      "codemirror_mode": {
        "name": "ipython",
        "version": 3
      },
      "file_extension": ".py",
      "mimetype": "text/x-python",
      "name": "python",
      "nbconvert_exporter": "python",
      "pygments_lexer": "ipython3",
      "version": "3.11.7"
    },
    "colab": {
      "provenance": [],
      "include_colab_link": true
    }
  },
  "nbformat": 4,
  "nbformat_minor": 5
}